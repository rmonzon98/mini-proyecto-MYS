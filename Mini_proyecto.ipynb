{
  "nbformat": 4,
  "nbformat_minor": 0,
  "metadata": {
    "colab": {
      "name": "Mini proyecto",
      "provenance": [],
      "collapsed_sections": [],
      "include_colab_link": true
    },
    "kernelspec": {
      "name": "python3",
      "display_name": "Python 3"
    }
  },
  "cells": [
    {
      "cell_type": "markdown",
      "metadata": {
        "id": "view-in-github",
        "colab_type": "text"
      },
      "source": [
        "<a href=\"https://colab.research.google.com/github/rmonzon98/mini-proyecto-MYS/blob/master/Mini_proyecto.ipynb\" target=\"_parent\"><img src=\"https://colab.research.google.com/assets/colab-badge.svg\" alt=\"Open In Colab\"/></a>"
      ]
    },
    {
      "cell_type": "markdown",
      "metadata": {
        "id": "0tI8s82W2jHD",
        "colab_type": "text"
      },
      "source": [
        "Integrantes:\n",
        "* Raúl Monzon 17014\n",
        "* David Valenzuela 171001"
      ]
    },
    {
      "cell_type": "markdown",
      "metadata": {
        "id": "Cg096Oi-2oAe",
        "colab_type": "text"
      },
      "source": [
        "# MINI PROYECTO 1\n",
        "---"
      ]
    },
    {
      "cell_type": "code",
      "metadata": {
        "id": "QCjq4gQl5DLI",
        "colab_type": "code",
        "colab": {}
      },
      "source": [
        "import numpy as np\n",
        "import matplotlib.pyplot as plt \n",
        "from random import random\n",
        "import math\n",
        "from PIL import Image, ImageDraw"
      ],
      "execution_count": null,
      "outputs": []
    },
    {
      "cell_type": "markdown",
      "metadata": {
        "id": "OCR--gA_339q",
        "colab_type": "text"
      },
      "source": [
        "## Ejercicio\t1 \n",
        "El\ttriángulo\tde\tShierpinski"
      ]
    },
    {
      "cell_type": "markdown",
      "metadata": {
        "id": "hJ-2Oxln4bm6",
        "colab_type": "text"
      },
      "source": [
        "En este ejercicio nosotros elegimos la probabilidad de cada función\n",
        "* Para la primera función la probabilidad será de 0.2.\n",
        "* Para la segunda función la probabilidad será de 0.3.\n",
        "* Para la tercera función la probabilidad será de 0.5.\n",
        "\n",
        "Haciendo que p1 + p2 + p3 = 1"
      ]
    },
    {
      "cell_type": "code",
      "metadata": {
        "id": "jGN92FrdG3n2",
        "colab_type": "code",
        "colab": {}
      },
      "source": [
        "def elegir_funcion(probabilidades):\n",
        "  numero = random()\n",
        "  if (numero < probabilidades[0]):\n",
        "    return 1\n",
        "  elif ( (numero >= probabilidades[0]) and ( numero < probabilidades[0] + probabilidades[1]) ):\n",
        "    return 2\n",
        "  else: \n",
        "    return 3"
      ],
      "execution_count": null,
      "outputs": []
    },
    {
      "cell_type": "markdown",
      "metadata": {
        "id": "e5tPNk5768e7",
        "colab_type": "text"
      },
      "source": [
        "Las funciones son las siguientes:\n",
        "* Point f1(Point p): return Point(p.x/2, p.y/2)\n",
        "* Point f2(Point p): return Point(p.x/2 + 0.5, p.y/2)\n",
        "* Point f3(Point p): return Point(p.x/2 + 0.25, p.y/2 + 0.5)"
      ]
    },
    {
      "cell_type": "code",
      "metadata": {
        "id": "MUkZR4mMMh5l",
        "colab_type": "code",
        "colab": {}
      },
      "source": [
        "cantidad_simulacion = 100000\n",
        "\n",
        "funciones = {\n",
        "    1: lambda p: (p[0]/2, p[1]/2),\n",
        "    2: lambda p: ((p[0]/2) + 0.5, p[1]/2),\n",
        "    3: lambda p: ((p[0]/2) + 0.25, (p[1]/2) + 0.5)\n",
        "}\n",
        "\n",
        "#Creamos los arrays\n",
        "x = np.random.rand(cantidad_simulacion,1)\n",
        "y = np.random.rand(cantidad_simulacion,1)\n",
        "\n",
        "#Aplicamos las funciones a todos los puntos\n",
        "probabilidades = [0.33,0.33,0.34]\n",
        "for i in range(0,10):\n",
        "  for i in range(0,cantidad_simulacion):\n",
        "      x[i], y[i] = funciones[elegir_funcion(probabilidades)]((x[i], y[i]))"
      ],
      "execution_count": null,
      "outputs": []
    },
    {
      "cell_type": "markdown",
      "metadata": {
        "id": "aPLJeFoUUMNf",
        "colab_type": "text"
      },
      "source": [
        "Graficamos los puntos con las funciones ya aplicadas"
      ]
    },
    {
      "cell_type": "code",
      "metadata": {
        "id": "zWrEtqjcULS1",
        "colab_type": "code",
        "colab": {
          "base_uri": "https://localhost:8080/",
          "height": 350
        },
        "outputId": "fdf739ef-beeb-482e-e269-5d686e91bc68"
      },
      "source": [
        "print (\"\\nprobabilidades de las funciones\",\n",
        "       \"\\nPrimera función: \",probabilidades[0],\n",
        "       \"\\nSegunda función: \",probabilidades[1],\n",
        "       \"\\nTercera función: \",probabilidades[2])\n",
        "plt.scatter(x=x,y=y)\n",
        "plt.show()"
      ],
      "execution_count": null,
      "outputs": [
        {
          "output_type": "stream",
          "text": [
            "\n",
            "probabilidades de las funciones \n",
            "Primera función:  0.33 \n",
            "Segunda función:  0.33 \n",
            "Tercera función:  0.34\n"
          ],
          "name": "stdout"
        },
        {
          "output_type": "display_data",
          "data": {
            "image/png": "[encoded data removed]",
            "text/plain": [
              "<Figure size 432x288 with 1 Axes>"
            ]
          },
          "metadata": {
            "tags": [],
            "needs_background": "light"
          }
        }
      ]
    },
    {
      "cell_type": "markdown",
      "metadata": {
        "id": "jcKGSzicKLgL",
        "colab_type": "text"
      },
      "source": [
        "Ejercicio 2\n",
        "---\n",
        "El\thelecho\tde\tBarnsley"
      ]
    },
    {
      "cell_type": "markdown",
      "metadata": {
        "id": "Fha_RA0-oYwn",
        "colab_type": "text"
      },
      "source": [
        "![Captura.PNG](data:image/png;base64,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)"
      ]
    },
    {
      "cell_type": "code",
      "metadata": {
        "id": "UROSNyN4e2NP",
        "colab_type": "code",
        "colab": {}
      },
      "source": [
        "def elegir_funcion_ej2(probabilidades):\n",
        "  numero = random()\n",
        "  if (numero < probabilidades[0]):\n",
        "    return 1\n",
        "  elif ( (numero >= probabilidades[0]) and ( numero < probabilidades[0] + probabilidades[1]) ):\n",
        "    return 2\n",
        "  elif ( (numero >= probabilidades[0] + probabilidades[1]) and ( numero < probabilidades[0] + probabilidades[1]) + probabilidades[2] ):\n",
        "    return 3\n",
        "  else: \n",
        "    return 4"
      ],
      "execution_count": null,
      "outputs": []
    },
    {
      "cell_type": "code",
      "metadata": {
        "id": "9h9S1Amz5NnS",
        "colab_type": "code",
        "colab": {}
      },
      "source": [
        "def helecho(funciones,probabilidades,n):\n",
        "  puntos = []\n",
        "  for i in range(0,n):\n",
        "    funcion = elegir_funcion_ej2(probabilidades)\n",
        "    puntos.append(funciones[funcion]((random(),random())))\n",
        "  return puntos"
      ],
      "execution_count": null,
      "outputs": []
    },
    {
      "cell_type": "code",
      "metadata": {
        "id": "1ixdM2ULKrdO",
        "colab_type": "code",
        "colab": {}
      },
      "source": [
        "#Se declaran las funciones, probabilidades y cantidad de puntos a dibujar\n",
        "funciones = {\n",
        "  1: lambda p: (p[0]*0.85 + p[1]*0.04 + 0.0, p[0]*(-0.04) + p[1]*0.85 + 1.6),\n",
        "  2: lambda p: ((-0.15)*p[0] + 0.28*p[1] + 0.0, p[0]*0.26+ p[1]*0.24+ 0.44),\n",
        "  3: lambda p: (p[0]*0.2 + p[1]*(-0.26) + 0.0, p[0]*0.23 + p[1]*0.22 + 1.6),\n",
        "  4: lambda p: (p[0]*0.0 + p[1]*0.0, p[0]*0.0 + p[1]*0.16)\n",
        "}\n",
        "probabilidades = [0.85,0.07,0.07,0.01]\n",
        "n = 100000"
      ],
      "execution_count": null,
      "outputs": []
    },
    {
      "cell_type": "code",
      "metadata": {
        "id": "KL92EpN85D9J",
        "colab_type": "code",
        "colab": {}
      },
      "source": [
        "#Calculamos los puntos\n",
        "puntos = helecho2(funciones,probabilidades,n)\n",
        "puntos = np.array(puntos)"
      ],
      "execution_count": null,
      "outputs": []
    },
    {
      "cell_type": "code",
      "metadata": {
        "id": "4wCbGUGh5Hoc",
        "colab_type": "code",
        "colab": {
          "base_uri": "https://localhost:8080/",
          "height": 367
        },
        "outputId": "705d0a3f-5fbd-4334-d796-995ba5f722fd"
      },
      "source": [
        "print (\"\\nprobabilidad de las funciones\"\n",
        "      ,\"\\nPrimera función: \",probabilidades[0],\"\\nSegunda función: \",probabilidades[1],\n",
        "       \"\\nTercera función: \",probabilidades[2],\"\\nCuarta función: \",probabilidades[3])\n",
        "#Graficamos\n",
        "plt.scatter(x=puntos[:,0],y=puntos[:,1])\n",
        "plt.show()"
      ],
      "execution_count": null,
      "outputs": [
        {
          "output_type": "stream",
          "text": [
            "\n",
            "probabilidad de las funciones \n",
            "Primera función:  0.85 \n",
            "Segunda función:  0.07 \n",
            "Tercera función:  0.07 \n",
            "Cuarta función:  0.01\n"
          ],
          "name": "stdout"
        },
        {
          "output_type": "display_data",
          "data": {
            "image/png": "[encoded data removed]",
            "text/plain": [
              "<Figure size 432x288 with 1 Axes>"
            ]
          },
          "metadata": {
            "tags": [],
            "needs_background": "light"
          }
        }
      ]
    },
    {
      "cell_type": "markdown",
      "metadata": {
        "id": "odEM6fu4oFk5",
        "colab_type": "text"
      },
      "source": [
        "Ejercicio 3\n",
        "---\n",
        "Análisis\tde\tpseudorandoms"
      ]
    },
    {
      "cell_type": "markdown",
      "metadata": {
        "id": "RbLJ5ORVokWG",
        "colab_type": "text"
      },
      "source": [
        "![Captura2.PNG](data:image/png;base64,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)"
      ]
    },
    {
      "cell_type": "code",
      "metadata": {
        "id": "LIOSqjmGALgu",
        "colab_type": "code",
        "colab": {}
      },
      "source": [
        "def pseudo(a,m):\n",
        "  def inner_pseudo(xo,n):\n",
        "    items = list(range(n))\n",
        "    items[0]=xo\n",
        "    for i in range(1,n):\n",
        "      items[i]=(a*items[i-1])%m\n",
        "    return [i/ float(m) for i in items]\n",
        "  return inner_pseudo\n",
        "\n",
        "generador1 = pseudo(m=2**35-1,a=5**5)\n",
        "generador2 = pseudo(m=2**31-1,a=7**5)"
      ],
      "execution_count": null,
      "outputs": []
    },
    {
      "cell_type": "code",
      "metadata": {
        "id": "bdkm1k3DFxSw",
        "colab_type": "code",
        "colab": {}
      },
      "source": [
        "def dibujar_histograma(numeros,titulo,cantidad):\n",
        "  division = 100/cantidad\n",
        "  print (\"Histograma realizado con \",titulo,\":\\n\")\n",
        "  for i in range(1,11):\n",
        "    cont = 0\n",
        "    for j in numeros:\n",
        "      if ( (j>=(i-1)*0.1) and (j<(i*.10)) ):\n",
        "        cont = cont + 1\n",
        "    print ( \"{0:.2f}\".format(((i-1)*0.1)),\"-\", \"{0:.2f}\".format(((i)*0.1)),\": \",(\"*\"*math.ceil((cont*division))),\" (\", cont,\")\\n\" ) \n",
        "    "
      ],
      "execution_count": null,
      "outputs": []
    },
    {
      "cell_type": "code",
      "metadata": {
        "id": "BrSb5QBFH-vH",
        "colab_type": "code",
        "colab": {
          "base_uri": "https://localhost:8080/",
          "height": 1000
        },
        "outputId": "eae694e2-6e0b-40f7-9f5c-d2fcf258f472"
      },
      "source": [
        "#Se generan los números\n",
        "cantidad = 100\n",
        "numeros_generados_1 = generador1(xo=1,n=cantidad)\n",
        "numeros_generados_2 = generador2(xo=1,n=cantidad)\n",
        "numeros_random = np.random.rand(cantidad,1)\n",
        "#Se imprimen\n",
        "dibujar_histograma(numeros_random,\"generador 1\",cantidad)\n",
        "dibujar_histograma(numeros_random,\"generador 2\",cantidad)\n",
        "dibujar_histograma(numeros_random,\"generador baseline\",cantidad)"
      ],
      "execution_count": null,
      "outputs": [
        {
          "output_type": "stream",
          "text": [
            "Histograma realizado con  generador 1 :\n",
            "\n",
            "0.00 - 0.10 :  *************  ( 13 )\n",
            "\n",
            "0.10 - 0.20 :  ***********  ( 11 )\n",
            "\n",
            "0.20 - 0.30 :  *********  ( 9 )\n",
            "\n",
            "0.30 - 0.40 :  ***********  ( 11 )\n",
            "\n",
            "0.40 - 0.50 :  *********  ( 9 )\n",
            "\n",
            "0.50 - 0.60 :  ********  ( 8 )\n",
            "\n",
            "0.60 - 0.70 :  ********  ( 8 )\n",
            "\n",
            "0.70 - 0.80 :  ********  ( 8 )\n",
            "\n",
            "0.80 - 0.90 :  ***********  ( 11 )\n",
            "\n",
            "0.90 - 1.00 :  ************  ( 12 )\n",
            "\n",
            "Histograma realizado con  generador 2 :\n",
            "\n",
            "0.00 - 0.10 :  *************  ( 13 )\n",
            "\n",
            "0.10 - 0.20 :  ***********  ( 11 )\n",
            "\n",
            "0.20 - 0.30 :  *********  ( 9 )\n",
            "\n",
            "0.30 - 0.40 :  ***********  ( 11 )\n",
            "\n",
            "0.40 - 0.50 :  *********  ( 9 )\n",
            "\n",
            "0.50 - 0.60 :  ********  ( 8 )\n",
            "\n",
            "0.60 - 0.70 :  ********  ( 8 )\n",
            "\n",
            "0.70 - 0.80 :  ********  ( 8 )\n",
            "\n",
            "0.80 - 0.90 :  ***********  ( 11 )\n",
            "\n",
            "0.90 - 1.00 :  ************  ( 12 )\n",
            "\n",
            "Histograma realizado con  generador baseline :\n",
            "\n",
            "0.00 - 0.10 :  *************  ( 13 )\n",
            "\n",
            "0.10 - 0.20 :  ***********  ( 11 )\n",
            "\n",
            "0.20 - 0.30 :  *********  ( 9 )\n",
            "\n",
            "0.30 - 0.40 :  ***********  ( 11 )\n",
            "\n",
            "0.40 - 0.50 :  *********  ( 9 )\n",
            "\n",
            "0.50 - 0.60 :  ********  ( 8 )\n",
            "\n",
            "0.60 - 0.70 :  ********  ( 8 )\n",
            "\n",
            "0.70 - 0.80 :  ********  ( 8 )\n",
            "\n",
            "0.80 - 0.90 :  ***********  ( 11 )\n",
            "\n",
            "0.90 - 1.00 :  ************  ( 12 )\n",
            "\n"
          ],
          "name": "stdout"
        }
      ]
    },
    {
      "cell_type": "code",
      "metadata": {
        "id": "xNtV5AhxLzvp",
        "colab_type": "code",
        "colab": {
          "base_uri": "https://localhost:8080/",
          "height": 1000
        },
        "outputId": "604c8367-13e2-4c47-939a-9a17de944fc2"
      },
      "source": [
        "#Se generan los números\n",
        "cantidad = 5000\n",
        "numeros_generados_1 = generador1(xo=1,n=cantidad)\n",
        "numeros_generados_2 = generador2(xo=1,n=cantidad)\n",
        "numeros_random = np.random.rand(cantidad,1)\n",
        "#Se imprimen\n",
        "dibujar_histograma(numeros_random,\"generador 1\",cantidad)\n",
        "dibujar_histograma(numeros_random,\"generador 2\",cantidad)\n",
        "dibujar_histograma(numeros_random,\"generador baseline\",cantidad)"
      ],
      "execution_count": null,
      "outputs": [
        {
          "output_type": "stream",
          "text": [
            "Histograma realizado con  generador 1 :\n",
            "\n",
            "0.00 - 0.10 :  ***********  ( 513 )\n",
            "\n",
            "0.10 - 0.20 :  **********  ( 494 )\n",
            "\n",
            "0.20 - 0.30 :  ***********  ( 521 )\n",
            "\n",
            "0.30 - 0.40 :  **********  ( 481 )\n",
            "\n",
            "0.40 - 0.50 :  ***********  ( 501 )\n",
            "\n",
            "0.50 - 0.60 :  ***********  ( 508 )\n",
            "\n",
            "0.60 - 0.70 :  ***********  ( 504 )\n",
            "\n",
            "0.70 - 0.80 :  **********  ( 494 )\n",
            "\n",
            "0.80 - 0.90 :  **********  ( 483 )\n",
            "\n",
            "0.90 - 1.00 :  ***********  ( 501 )\n",
            "\n",
            "Histograma realizado con  generador 2 :\n",
            "\n",
            "0.00 - 0.10 :  ***********  ( 513 )\n",
            "\n",
            "0.10 - 0.20 :  **********  ( 494 )\n",
            "\n",
            "0.20 - 0.30 :  ***********  ( 521 )\n",
            "\n",
            "0.30 - 0.40 :  **********  ( 481 )\n",
            "\n",
            "0.40 - 0.50 :  ***********  ( 501 )\n",
            "\n",
            "0.50 - 0.60 :  ***********  ( 508 )\n",
            "\n",
            "0.60 - 0.70 :  ***********  ( 504 )\n",
            "\n",
            "0.70 - 0.80 :  **********  ( 494 )\n",
            "\n",
            "0.80 - 0.90 :  **********  ( 483 )\n",
            "\n",
            "0.90 - 1.00 :  ***********  ( 501 )\n",
            "\n",
            "Histograma realizado con  generador baseline :\n",
            "\n",
            "0.00 - 0.10 :  ***********  ( 513 )\n",
            "\n",
            "0.10 - 0.20 :  **********  ( 494 )\n",
            "\n",
            "0.20 - 0.30 :  ***********  ( 521 )\n",
            "\n",
            "0.30 - 0.40 :  **********  ( 481 )\n",
            "\n",
            "0.40 - 0.50 :  ***********  ( 501 )\n",
            "\n",
            "0.50 - 0.60 :  ***********  ( 508 )\n",
            "\n",
            "0.60 - 0.70 :  ***********  ( 504 )\n",
            "\n",
            "0.70 - 0.80 :  **********  ( 494 )\n",
            "\n",
            "0.80 - 0.90 :  **********  ( 483 )\n",
            "\n",
            "0.90 - 1.00 :  ***********  ( 501 )\n",
            "\n"
          ],
          "name": "stdout"
        }
      ]
    },
    {
      "cell_type": "code",
      "metadata": {
        "id": "Aq6yzWXYL56M",
        "colab_type": "code",
        "colab": {
          "base_uri": "https://localhost:8080/",
          "height": 1000
        },
        "outputId": "f0f38d53-c1e2-4cde-ec6c-cb7f0b3a8b75"
      },
      "source": [
        "#Se generan los números\n",
        "cantidad = 100000\n",
        "numeros_generados_1 = generador1(xo=1,n=cantidad)\n",
        "numeros_generados_2 = generador2(xo=1,n=cantidad)\n",
        "numeros_random = np.random.rand(cantidad,1)\n",
        "#Se imprimen\n",
        "dibujar_histograma(numeros_random,\"generador 1\",cantidad)\n",
        "dibujar_histograma(numeros_random,\"generador 2\",cantidad)\n",
        "dibujar_histograma(numeros_random,\"generador baseline\",cantidad)"
      ],
      "execution_count": null,
      "outputs": [
        {
          "output_type": "stream",
          "text": [
            "Histograma realizado con  generador 1 :\n",
            "\n",
            "0.00 - 0.10 :  ***********  ( 10018 )\n",
            "\n",
            "0.10 - 0.20 :  **********  ( 9980 )\n",
            "\n",
            "0.20 - 0.30 :  **********  ( 9924 )\n",
            "\n",
            "0.30 - 0.40 :  ***********  ( 10072 )\n",
            "\n",
            "0.40 - 0.50 :  **********  ( 9928 )\n",
            "\n",
            "0.50 - 0.60 :  **********  ( 9964 )\n",
            "\n",
            "0.60 - 0.70 :  **********  ( 9946 )\n",
            "\n",
            "0.70 - 0.80 :  ***********  ( 10239 )\n",
            "\n",
            "0.80 - 0.90 :  **********  ( 9938 )\n",
            "\n",
            "0.90 - 1.00 :  **********  ( 9991 )\n",
            "\n",
            "Histograma realizado con  generador 2 :\n",
            "\n",
            "0.00 - 0.10 :  ***********  ( 10018 )\n",
            "\n",
            "0.10 - 0.20 :  **********  ( 9980 )\n",
            "\n",
            "0.20 - 0.30 :  **********  ( 9924 )\n",
            "\n",
            "0.30 - 0.40 :  ***********  ( 10072 )\n",
            "\n",
            "0.40 - 0.50 :  **********  ( 9928 )\n",
            "\n",
            "0.50 - 0.60 :  **********  ( 9964 )\n",
            "\n",
            "0.60 - 0.70 :  **********  ( 9946 )\n",
            "\n",
            "0.70 - 0.80 :  ***********  ( 10239 )\n",
            "\n",
            "0.80 - 0.90 :  **********  ( 9938 )\n",
            "\n",
            "0.90 - 1.00 :  **********  ( 9991 )\n",
            "\n",
            "Histograma realizado con  generador baseline :\n",
            "\n",
            "0.00 - 0.10 :  ***********  ( 10018 )\n",
            "\n",
            "0.10 - 0.20 :  **********  ( 9980 )\n",
            "\n",
            "0.20 - 0.30 :  **********  ( 9924 )\n",
            "\n",
            "0.30 - 0.40 :  ***********  ( 10072 )\n",
            "\n",
            "0.40 - 0.50 :  **********  ( 9928 )\n",
            "\n",
            "0.50 - 0.60 :  **********  ( 9964 )\n",
            "\n",
            "0.60 - 0.70 :  **********  ( 9946 )\n",
            "\n",
            "0.70 - 0.80 :  ***********  ( 10239 )\n",
            "\n",
            "0.80 - 0.90 :  **********  ( 9938 )\n",
            "\n",
            "0.90 - 1.00 :  **********  ( 9991 )\n",
            "\n"
          ],
          "name": "stdout"
        }
      ]
    },
    {
      "cell_type": "markdown",
      "metadata": {
        "id": "p_-LsgkT7ReJ",
        "colab_type": "text"
      },
      "source": [
        "Ejercicio 4\n",
        "---\n",
        "integral unidimensional"
      ]
    },
    {
      "cell_type": "markdown",
      "metadata": {
        "id": "WZkodzcM7XEm",
        "colab_type": "text"
      },
      "source": [
        "![Captura3.PNG](data:image/png;base64,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)"
      ]
    },
    {
      "cell_type": "markdown",
      "metadata": {
        "id": "UslGydaZzhnR",
        "colab_type": "text"
      },
      "source": [
        "Llevamos la integral a un intervalo 0 a 1\n",
        "\n",
        "<img src=\"https://i.postimg.cc/FzPwSYZ0/Screen-Shot-2020-08-29-at-6-50-41-PM.png\" alt=\"drawing\" width=\"350\"/>"
      ]
    },
    {
      "cell_type": "markdown",
      "metadata": {
        "id": "6SLL66xd2gzk",
        "colab_type": "text"
      },
      "source": [
        "Creamos la funcion para calcular la integral con numeros aleatorios"
      ]
    },
    {
      "cell_type": "code",
      "metadata": {
        "id": "WWZ2SNIuHlsE",
        "colab_type": "code",
        "colab": {}
      },
      "source": [
        "integrate = lambda f, n: sum([f(x) for x in np.random.rand(n)]) / n"
      ],
      "execution_count": null,
      "outputs": []
    },
    {
      "cell_type": "markdown",
      "metadata": {
        "id": "j1WcRp2422KF",
        "colab_type": "text"
      },
      "source": [
        "Usamos la funcion encontrado"
      ]
    },
    {
      "cell_type": "code",
      "metadata": {
        "id": "XO3iMZRFHXvr",
        "colab_type": "code",
        "colab": {}
      },
      "source": [
        "func = lambda x: (2  * (math.e) ** (-( (1/x) -1)**2)) / (x ** 2)"
      ],
      "execution_count": null,
      "outputs": []
    },
    {
      "cell_type": "markdown",
      "metadata": {
        "id": "MRdzVC3g27YA",
        "colab_type": "text"
      },
      "source": [
        "Realizamos las aproximacion con 100, 10000, 1000000 iteraciones"
      ]
    },
    {
      "cell_type": "code",
      "metadata": {
        "id": "NcsJOCE9I5v5",
        "colab_type": "code",
        "colab": {
          "base_uri": "https://localhost:8080/",
          "height": 69
        },
        "outputId": "6e0cb04b-cfd9-46d7-94b0-dc3cb5a0bb69"
      },
      "source": [
        " [ {iters: integrate(func, iters)} for iters in [100, 10000, 1000000] ]"
      ],
      "execution_count": null,
      "outputs": [
        {
          "output_type": "execute_result",
          "data": {
            "text/plain": [
              "[{100: 1.715322323058358},\n",
              " {10000: 1.7872586179119077},\n",
              " {1000000: 1.7734342847038176}]"
            ]
          },
          "metadata": {
            "tags": []
          },
          "execution_count": 153
        }
      ]
    },
    {
      "cell_type": "markdown",
      "metadata": {
        "id": "EiK5izZD7iTf",
        "colab_type": "text"
      },
      "source": [
        "Ejercicio 5\n",
        "---\n",
        "integral\tbidimensional"
      ]
    },
    {
      "cell_type": "markdown",
      "metadata": {
        "id": "_EJdt7jD7oag",
        "colab_type": "text"
      },
      "source": [
        "![Captura4.PNG](data:image/png;base64,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)"
      ]
    },
    {
      "cell_type": "markdown",
      "metadata": {
        "id": "EAhYfvrX3UMU",
        "colab_type": "text"
      },
      "source": [
        "Llevamos la integral a un intervalo 0 a 1\n",
        "\n",
        "<img src=\"https://i.postimg.cc/N04DFWbH/Screen-Shot-2020-08-29-at-6-56-47-PM.png\" width=\"350\">"
      ]
    },
    {
      "cell_type": "markdown",
      "metadata": {
        "id": "KK6u65kD3tmL",
        "colab_type": "text"
      },
      "source": [
        "Definimos un funcion de integracion con 2 dimensiones"
      ]
    },
    {
      "cell_type": "code",
      "metadata": {
        "id": "rt3oQHWYqaE5",
        "colab_type": "code",
        "colab": {}
      },
      "source": [
        "integrate = lambda f, n: sum([f(x, y) for x, y in np.random.rand(n, 2)]) / n"
      ],
      "execution_count": null,
      "outputs": []
    },
    {
      "cell_type": "markdown",
      "metadata": {
        "id": "lm7vONNY31DX",
        "colab_type": "text"
      },
      "source": [
        "Usamos la funcion encontrada"
      ]
    },
    {
      "cell_type": "code",
      "metadata": {
        "id": "0PvQqcmQqEb1",
        "colab_type": "code",
        "colab": {}
      },
      "source": [
        "f = lambda x, y: (( (1/x) -1 ) * math.e**( - ( (1/x-1) + ( (1/x-1)*y ) )  )) / (x**2)"
      ],
      "execution_count": null,
      "outputs": []
    },
    {
      "cell_type": "markdown",
      "metadata": {
        "id": "cQppUtdT33KA",
        "colab_type": "text"
      },
      "source": [
        "Realizamos las aproximacion con 100, 10000, 1000000 iteraciones"
      ]
    },
    {
      "cell_type": "code",
      "metadata": {
        "id": "vUOalCtIq_c1",
        "colab_type": "code",
        "colab": {
          "base_uri": "https://localhost:8080/",
          "height": 69
        },
        "outputId": "31e51421-6308-4152-eb4f-d05201efd9ed"
      },
      "source": [
        " [ {iters: integrate(f, iters)} for iters in [100, 10000, 1000000] ]"
      ],
      "execution_count": null,
      "outputs": [
        {
          "output_type": "execute_result",
          "data": {
            "text/plain": [
              "[{100: 0.4785285244406572},\n",
              " {10000: 0.49605390168575125},\n",
              " {1000000: 0.5003139751403696}]"
            ]
          },
          "metadata": {
            "tags": []
          },
          "execution_count": 157
        }
      ]
    }
  ]
}